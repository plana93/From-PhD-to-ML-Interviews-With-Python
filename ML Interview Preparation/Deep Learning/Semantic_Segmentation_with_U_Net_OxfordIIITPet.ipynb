{
  "cells": [
    {
      "cell_type": "code",
      "execution_count": 1,
      "metadata": {
        "colab": {
          "base_uri": "https://localhost:8080/"
        },
        "id": "SOUwGPqoB7vp",
        "outputId": "cfba22b1-c588-464a-a550-21f84c5edae8"
      },
      "outputs": [
        {
          "output_type": "stream",
          "name": "stdout",
          "text": [
            "Requirement already satisfied: torch in /usr/local/lib/python3.10/dist-packages (2.1.0+cu118)\n",
            "Requirement already satisfied: torchvision in /usr/local/lib/python3.10/dist-packages (0.16.0+cu118)\n",
            "Requirement already satisfied: filelock in /usr/local/lib/python3.10/dist-packages (from torch) (3.13.1)\n",
            "Requirement already satisfied: typing-extensions in /usr/local/lib/python3.10/dist-packages (from torch) (4.5.0)\n",
            "Requirement already satisfied: sympy in /usr/local/lib/python3.10/dist-packages (from torch) (1.12)\n",
            "Requirement already satisfied: networkx in /usr/local/lib/python3.10/dist-packages (from torch) (3.2.1)\n",
            "Requirement already satisfied: jinja2 in /usr/local/lib/python3.10/dist-packages (from torch) (3.1.2)\n",
            "Requirement already satisfied: fsspec in /usr/local/lib/python3.10/dist-packages (from torch) (2023.6.0)\n",
            "Requirement already satisfied: triton==2.1.0 in /usr/local/lib/python3.10/dist-packages (from torch) (2.1.0)\n",
            "Requirement already satisfied: numpy in /usr/local/lib/python3.10/dist-packages (from torchvision) (1.23.5)\n",
            "Requirement already satisfied: requests in /usr/local/lib/python3.10/dist-packages (from torchvision) (2.31.0)\n",
            "Requirement already satisfied: pillow!=8.3.*,>=5.3.0 in /usr/local/lib/python3.10/dist-packages (from torchvision) (9.4.0)\n",
            "Requirement already satisfied: MarkupSafe>=2.0 in /usr/local/lib/python3.10/dist-packages (from jinja2->torch) (2.1.3)\n",
            "Requirement already satisfied: charset-normalizer<4,>=2 in /usr/local/lib/python3.10/dist-packages (from requests->torchvision) (3.3.2)\n",
            "Requirement already satisfied: idna<4,>=2.5 in /usr/local/lib/python3.10/dist-packages (from requests->torchvision) (3.6)\n",
            "Requirement already satisfied: urllib3<3,>=1.21.1 in /usr/local/lib/python3.10/dist-packages (from requests->torchvision) (2.0.7)\n",
            "Requirement already satisfied: certifi>=2017.4.17 in /usr/local/lib/python3.10/dist-packages (from requests->torchvision) (2023.11.17)\n",
            "Requirement already satisfied: mpmath>=0.19 in /usr/local/lib/python3.10/dist-packages (from sympy->torch) (1.3.0)\n"
          ]
        }
      ],
      "source": [
        "!pip install torch torchvision"
      ]
    },
    {
      "cell_type": "code",
      "execution_count": 2,
      "metadata": {
        "id": "Hn5bqcQ7CDV6"
      },
      "outputs": [],
      "source": [
        "import torch\n",
        "import torch.nn as nn\n",
        "import torch.optim as optim\n",
        "import torchvision\n",
        "import torchvision.transforms as transforms\n",
        "from torch.utils.data import DataLoader"
      ]
    },
    {
      "cell_type": "code",
      "execution_count": 9,
      "metadata": {
        "id": "VQi2p37qCE37"
      },
      "outputs": [],
      "source": [
        "device = torch.device(\"cuda\" if torch.cuda.is_available() else \"cpu\")\n",
        "num_epochs = 10\n",
        "batch_size = 32\n"
      ]
    },
    {
      "cell_type": "code",
      "execution_count": 4,
      "metadata": {
        "colab": {
          "base_uri": "https://localhost:8080/"
        },
        "id": "d7QgbmM-CP42",
        "outputId": "67602dcc-b22d-4814-d4d8-747bf7331b7f"
      },
      "outputs": [
        {
          "output_type": "stream",
          "name": "stdout",
          "text": [
            "Downloading https://thor.robots.ox.ac.uk/datasets/pets/images.tar.gz to data/oxford-iiit-pet/images.tar.gz\n"
          ]
        },
        {
          "output_type": "stream",
          "name": "stderr",
          "text": [
            "100%|██████████| 791918971/791918971 [00:37<00:00, 20952064.76it/s]\n"
          ]
        },
        {
          "output_type": "stream",
          "name": "stdout",
          "text": [
            "Extracting data/oxford-iiit-pet/images.tar.gz to data/oxford-iiit-pet\n",
            "Downloading https://thor.robots.ox.ac.uk/datasets/pets/annotations.tar.gz to data/oxford-iiit-pet/annotations.tar.gz\n"
          ]
        },
        {
          "output_type": "stream",
          "name": "stderr",
          "text": [
            "100%|██████████| 19173078/19173078 [00:02<00:00, 8174607.51it/s] \n"
          ]
        },
        {
          "output_type": "stream",
          "name": "stdout",
          "text": [
            "Extracting data/oxford-iiit-pet/annotations.tar.gz to data/oxford-iiit-pet\n"
          ]
        }
      ],
      "source": [
        "# trasform - download data - dataloader\n",
        "\n",
        "transform = transforms.Compose([\n",
        "    transforms.Resize(size=(32,32)),\n",
        "    transforms.ToTensor(),\n",
        "])\n",
        "\n",
        "transform_target = transforms.Compose([\n",
        "    transforms.Resize(size=(32,32)),\n",
        "    transforms.ToTensor(),\n",
        "])\n",
        "\n",
        "train_dataset = torchvision.datasets.OxfordIIITPet(\n",
        "    root='./data',\n",
        "    split='trainval',\n",
        "    target_types='segmentation',\n",
        "    transform = transform,\n",
        "    target_transform = transform_target,\n",
        "    download=True,\n",
        "    )\n",
        "\n",
        "test_dataset = torchvision.datasets.OxfordIIITPet(\n",
        "    root='./data',\n",
        "    split='test',\n",
        "    target_types='segmentation',\n",
        "    transform=transform,\n",
        "    target_transform = transform_target,\n",
        "    download=True,\n",
        "    )\n",
        "\n",
        "\n",
        "# DataLoader\n",
        "train_loader = DataLoader(dataset=train_dataset, batch_size=batch_size, shuffle=True)\n",
        "test_loader = DataLoader(dataset=test_dataset, batch_size=batch_size, shuffle=False)\n"
      ]
    },
    {
      "cell_type": "code",
      "execution_count": 5,
      "metadata": {
        "colab": {
          "base_uri": "https://localhost:8080/"
        },
        "id": "lzE38c6MCTEx",
        "outputId": "78efda46-0750-4c82-db1f-6eadcadce153"
      },
      "outputs": [
        {
          "output_type": "stream",
          "name": "stderr",
          "text": [
            "/usr/local/lib/python3.10/dist-packages/torch/hub.py:294: UserWarning: You are about to download and run code from an untrusted repository. In a future release, this won't be allowed. To add the repository to your trusted list, change the command to {calling_fn}(..., trust_repo=False) and a command prompt will appear asking for an explicit confirmation of trust, or load(..., trust_repo=True), which will assume that the prompt is to be answered with 'yes'. You can also use load(..., trust_repo='check') which will only prompt for confirmation if the repo is not already trusted. This will eventually be the default behaviour\n",
            "  warnings.warn(\n",
            "Downloading: \"https://github.com/mateuszbuda/brain-segmentation-pytorch/zipball/master\" to /root/.cache/torch/hub/master.zip\n",
            "Downloading: \"https://github.com/mateuszbuda/brain-segmentation-pytorch/releases/download/v1.0/unet-e012d006.pt\" to /root/.cache/torch/hub/checkpoints/unet-e012d006.pt\n"
          ]
        }
      ],
      "source": [
        "# model U-NET\n",
        "model = torch.hub.load('mateuszbuda/brain-segmentation-pytorch', 'unet',\n",
        "    in_channels=3, out_channels=1, init_features=32, pretrained=True)\n",
        "model = model.to(device)"
      ]
    },
    {
      "cell_type": "code",
      "execution_count": 6,
      "metadata": {
        "id": "Q8k4KE3sCUSm"
      },
      "outputs": [],
      "source": [
        "# loss and opt\n",
        "\n",
        "# CE / Focal Loss (better for unlances dataset) / IoU Loss (Jaccard)\n",
        "criterion = nn.BCEWithLogitsLoss()\n",
        "optimizer = optim.Adam(model.parameters(), lr=0.001)"
      ]
    },
    {
      "cell_type": "code",
      "execution_count": 10,
      "metadata": {
        "colab": {
          "base_uri": "https://localhost:8080/"
        },
        "id": "CmzIhVQmCWqT",
        "outputId": "07d32637-879c-4f44-985d-3879c4bc3724"
      },
      "outputs": [
        {
          "output_type": "stream",
          "name": "stdout",
          "text": [
            "Epoch [1/10], Step [100/230], Loss: 0.6559\n",
            "Epoch [1/10], Step [200/230], Loss: 0.6105\n",
            "Epoch [2/10], Step [100/230], Loss: 0.6570\n",
            "Epoch [2/10], Step [200/230], Loss: 0.6336\n",
            "Epoch [3/10], Step [100/230], Loss: 0.6435\n",
            "Epoch [3/10], Step [200/230], Loss: 0.6446\n",
            "Epoch [4/10], Step [100/230], Loss: 0.6355\n",
            "Epoch [4/10], Step [200/230], Loss: 0.6371\n",
            "Epoch [5/10], Step [100/230], Loss: 0.6517\n",
            "Epoch [5/10], Step [200/230], Loss: 0.6709\n",
            "Epoch [6/10], Step [100/230], Loss: 0.6409\n",
            "Epoch [6/10], Step [200/230], Loss: 0.6401\n",
            "Epoch [7/10], Step [100/230], Loss: 0.6325\n",
            "Epoch [7/10], Step [200/230], Loss: 0.6376\n",
            "Epoch [8/10], Step [100/230], Loss: 0.6548\n",
            "Epoch [8/10], Step [200/230], Loss: 0.6700\n",
            "Epoch [9/10], Step [100/230], Loss: 0.6228\n",
            "Epoch [9/10], Step [200/230], Loss: 0.6193\n",
            "Epoch [10/10], Step [100/230], Loss: 0.6245\n",
            "Epoch [10/10], Step [200/230], Loss: 0.6066\n"
          ]
        }
      ],
      "source": [
        "# training loop\n",
        "\n",
        "model.train()\n",
        "for epoch in range(num_epochs):\n",
        "    for idx, (image, label) in enumerate(train_loader):\n",
        "        image, label = image.to(device), label.to(device)\n",
        "\n",
        "        # forward\n",
        "        output = model(image)\n",
        "\n",
        "        # loss - backward - op\n",
        "        label = label*255 # to remove the ToTensor operation\n",
        "        label = (label==1).float() # 1 foreground all the other points are back\n",
        "        loss = criterion(output, label)\n",
        "        optimizer.zero_grad()\n",
        "        loss.backward()\n",
        "        optimizer.step()\n",
        "\n",
        "        if (idx+1) % 100 == 0:\n",
        "            print(f'Epoch [{epoch+1}/{num_epochs}], Step [{idx+1}/{len(train_loader)}], Loss: {loss.item():.4f}')\n",
        "\n",
        "\n"
      ]
    },
    {
      "cell_type": "code",
      "execution_count": 23,
      "metadata": {
        "id": "lLcqTAroCXyM",
        "colab": {
          "base_uri": "https://localhost:8080/"
        },
        "outputId": "fb2df1e1-94ae-47d8-cb3e-5a8cfddc1683"
      },
      "outputs": [
        {
          "output_type": "stream",
          "name": "stdout",
          "text": [
            "Accuracy on the test set: 90.07%\n"
          ]
        }
      ],
      "source": [
        "# eval\n",
        "\n",
        "# accuracy / IoU / mAP\n",
        "\n",
        "model.eval()\n",
        "with torch.no_grad():\n",
        "    correct = 0\n",
        "    total = 0\n",
        "    for idx, (images, labels) in enumerate(test_loader):\n",
        "        images, labels = images.to(device), labels.to(device)\n",
        "        outputs = model(images)\n",
        "\n",
        "        labels = labels*255\n",
        "        labels = (labels==1).float()\n",
        "\n",
        "        outputs = (outputs > 0.5).float()\n",
        "        bs, c, h , w = labels.size()\n",
        "        total += bs*h*w*c\n",
        "        correct += (outputs == labels).sum().item()\n",
        "\n",
        "accuracy = correct / total\n",
        "print(f'Accuracy on the test set: {100 * accuracy:.2f}%')"
      ]
    }
  ],
  "metadata": {
    "colab": {
      "provenance": []
    },
    "kernelspec": {
      "display_name": "Python 3",
      "name": "python3"
    },
    "language_info": {
      "name": "python"
    }
  },
  "nbformat": 4,
  "nbformat_minor": 0
}